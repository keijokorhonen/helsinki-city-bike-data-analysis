{
 "cells": [
  {
   "cell_type": "code",
   "execution_count": 1,
   "metadata": {},
   "outputs": [],
   "source": [
    "import numpy as np\n",
    "import pandas as pd\n",
    "from sklearn.ensemble import RandomForestRegressor\n",
    "from sklearn.model_selection import train_test_split, cross_val_score"
   ]
  },
  {
   "cell_type": "code",
   "execution_count": 44,
   "metadata": {},
   "outputs": [],
   "source": [
    "X = pd.read_csv(\"training_data/X_train.csv\")\n",
    "y = pd.read_csv(\"training_data/Y_train.csv\")"
   ]
  },
  {
   "cell_type": "code",
   "execution_count": 45,
   "metadata": {},
   "outputs": [],
   "source": [
    "X_train, X_test, y_train, y_test = train_test_split(X, y, test_size=0.2)"
   ]
  },
  {
   "cell_type": "code",
   "execution_count": 46,
   "metadata": {},
   "outputs": [],
   "source": [
    "model = RandomForestRegressor(n_estimators=100, max_depth=5)"
   ]
  },
  {
   "cell_type": "code",
   "execution_count": 47,
   "metadata": {},
   "outputs": [
    {
     "data": {
      "text/plain": [
       "RandomForestRegressor(max_depth=5)"
      ]
     },
     "execution_count": 47,
     "metadata": {},
     "output_type": "execute_result"
    }
   ],
   "source": [
    "model.fit(X_train, y_train[\"base_to_comp_sun_morning\"])"
   ]
  },
  {
   "cell_type": "code",
   "execution_count": 48,
   "metadata": {},
   "outputs": [
    {
     "data": {
      "text/plain": [
       "0.950728462281116"
      ]
     },
     "execution_count": 48,
     "metadata": {},
     "output_type": "execute_result"
    }
   ],
   "source": [
    "# if too high, the model is overfitting\n",
    "model.score(X_train, y_train[\"base_to_comp_sun_morning\"])"
   ]
  },
  {
   "cell_type": "code",
   "execution_count": 49,
   "metadata": {
    "scrolled": true
   },
   "outputs": [
    {
     "data": {
      "text/plain": [
       "0.789876338466871"
      ]
     },
     "execution_count": 49,
     "metadata": {},
     "output_type": "execute_result"
    }
   ],
   "source": [
    "model.score(X_test, y_test[\"base_to_comp_sun_morning\"])"
   ]
  },
  {
   "cell_type": "code",
   "execution_count": 50,
   "metadata": {},
   "outputs": [
    {
     "data": {
      "text/plain": [
       "array([0.73726639, 0.72328608, 0.50941836, 0.50913885, 0.54689622])"
      ]
     },
     "execution_count": 50,
     "metadata": {},
     "output_type": "execute_result"
    }
   ],
   "source": [
    "scores = cross_val_score(model, X_train, y_train, cv=5)\n",
    "scores"
   ]
  },
  {
   "cell_type": "code",
   "execution_count": 41,
   "metadata": {},
   "outputs": [],
   "source": [
    "X_pred = pd.read_csv(\"training_data/X_pred.csv\")\n",
    "pred_pairs = np.loadtxt(\"training_data/train_pairs.txt\", dtype=str, delimiter=\",\")"
   ]
  },
  {
   "cell_type": "code",
   "execution_count": 42,
   "metadata": {
    "scrolled": true
   },
   "outputs": [
    {
     "data": {
      "text/plain": [
       "array([ 35.18540254,  43.30576247,  39.45890997,  16.87471308,\n",
       "        17.57041255,  18.91605732,  17.12010913, 216.94513161,\n",
       "       214.63172591,  20.26703459,  16.63122026,  16.82360738,\n",
       "        20.47975493,  21.3781587 , 162.32844499, 233.45924754,\n",
       "        19.18597454,  15.01111263,  16.87050858,  29.7380174 ,\n",
       "        26.15130726,  14.82176984,  14.82176984,  42.32482537,\n",
       "       104.77081826,  82.81583279,  14.44763784,  17.63031406,\n",
       "        15.26482569,  13.3863494 ,  18.01960542,  16.55937152,\n",
       "        21.30773712,  14.20414502,  14.39653214,  16.27568093,\n",
       "        20.10852382,  77.00771874, 202.6388006 ,  75.05619361,\n",
       "        15.17124333,  12.3946946 ,  23.29294216,  17.65749328,\n",
       "        12.3946946 ,  12.3946946 ,  39.20571426,  97.7755533 ,\n",
       "        79.15556784,  14.44763784,  17.63031406,  15.26482569,\n",
       "        13.3863494 ,  18.01960542,  14.48090172,  21.30773712,\n",
       "        14.60238668,  17.16913048,  18.67757432,  75.41063067,\n",
       "       122.71607302, 186.00097017, 152.8461203 ,  77.03997562,\n",
       "        12.3946946 ,  19.90607941,  14.27063053,  12.3946946 ,\n",
       "        14.08047786,  36.53386214,  48.78580086, 131.00580012,\n",
       "        15.7276607 ,  17.17445035,  16.71969351,  14.22405916,\n",
       "        17.34136756,  13.63282823,  19.57801977,  16.97907889,\n",
       "        20.47052629,  19.51528409,  78.91953167,  76.9044013 ,\n",
       "       203.03447007, 155.70225873, 172.39883021,  13.7779658 ,\n",
       "        28.33411179,  15.1083403 ,  13.7779658 ,  18.2215037 ,\n",
       "        78.35586978,  42.39000587, 170.22378591,  19.65007493,\n",
       "        17.76660774,  17.88809612,  18.58878649,  16.08853169,\n",
       "        15.68074823,  63.93428241,  16.82741545,  17.12591007,\n",
       "        19.03823186,  23.0228956 ,  18.75347607,  21.71226684,\n",
       "       108.26631115, 202.36100733,  19.90822977,  26.33133085,\n",
       "        21.7841657 ,  17.86753031, 109.30480391,  33.51407085,\n",
       "        70.19116127, 125.52857827,  14.79547041,  15.49116989,\n",
       "        15.61265827,  13.73418197,  13.5507345 ,  13.14295104,\n",
       "        18.18779193,  14.5519776 ,  14.74436472,  14.18362734,\n",
       "        17.3531777 ,  14.209913  ,  17.73162651,  17.73162651,\n",
       "        16.40502167,  12.74252718,  20.25391199,  14.61846311,\n",
       "        12.74252718,  13.28808861,  31.92307329,  65.55561445,\n",
       "       133.69508071,  14.75983875,  16.03178344,  15.5770266 ,\n",
       "        13.69855031,  13.51510284,  13.10731938,  18.15216026,\n",
       "        14.51634593,  14.70873305,  14.14799568,  17.31754603,\n",
       "        12.70689552,  12.70689552,  14.39267877,  16.66049136,\n",
       "        14.75563425,  20.21828033,  16.63157018,  13.25245695,\n",
       "        17.69599484,  33.82154246,  37.72764844,  47.21446609,\n",
       "        14.67019756,  15.94214226,  15.48738541,  13.60890912,\n",
       "        13.42546165,  13.01767819,  20.69029685,  14.42670475,\n",
       "        14.61909187,  14.05835449,  17.22790484,  12.61725433,\n",
       "        12.61725433,  13.16281576,  16.9968915 ,  12.61725433,\n",
       "        20.41458737,  14.49319026,  16.80754871,  72.67921315,\n",
       "        58.70044061,  38.95256681, 112.61896787,  21.00507555,\n",
       "        19.29645332,  19.4179417 ,  19.50147402,  17.00121921,\n",
       "        16.59343575,  21.99307536,  18.35726103,  18.54964815,\n",
       "        19.95091938,  20.54130307,  16.19301189,  16.19301189,\n",
       "        16.73857332, 103.40146096,  18.77217856,  40.77111885,\n",
       "        28.05297723, 307.17502302, 200.21880127,  89.49127603,\n",
       "        90.02481561, 140.44499971,  26.28434563,  21.67092389,\n",
       "        27.10153348,  18.31897703,  17.94618676,  17.72774609,\n",
       "        29.48732435,  26.04085281,  20.92411872,  20.36338134,\n",
       "        23.34358891,  17.32732223,  17.32732223,  17.32732223,\n",
       "        17.32732223,  17.32732223,  38.25689559,  26.60812091,\n",
       "       191.6896818 ,  22.92770828, 242.19242594, 148.2294291 ,\n",
       "       313.08682498,  19.4315499 ,  30.10568677,  54.06773775,\n",
       "        17.45371757,  12.9212701 ,  12.68845065,  82.39371641,\n",
       "        17.91135816,  18.52474528,  50.0420079 ,  18.47183021,\n",
       "        12.28802679,  12.28802679,  12.28802679,  45.89136958,\n",
       "        49.07801885,  25.20479751,  50.62164717,  48.37802679,\n",
       "        48.37802679])"
      ]
     },
     "execution_count": 42,
     "metadata": {},
     "output_type": "execute_result"
    }
   ],
   "source": [
    "model.predict(X_pred)"
   ]
  },
  {
   "cell_type": "code",
   "execution_count": null,
   "metadata": {},
   "outputs": [],
   "source": [
    "# not complete, just an idea for it\n",
    "predictions = []\n",
    "\n",
    "for column in y.columns:\n",
    "    model = RandomForestRegressor(n_estimators=500, max_depth=None)\n",
    "    model.fit(X_train, y_train[column])\n",
    "    predictions.append(model.predict(X_pred))\n",
    "    \n",
    "results = pd.DataFrame(predictions, columns=y.columns)"
   ]
  }
 ],
 "metadata": {
  "kernelspec": {
   "display_name": "Python 3",
   "language": "python",
   "name": "python3"
  },
  "language_info": {
   "codemirror_mode": {
    "name": "ipython",
    "version": 3
   },
   "file_extension": ".py",
   "mimetype": "text/x-python",
   "name": "python",
   "nbconvert_exporter": "python",
   "pygments_lexer": "ipython3",
   "version": "3.6.9"
  }
 },
 "nbformat": 4,
 "nbformat_minor": 4
}
