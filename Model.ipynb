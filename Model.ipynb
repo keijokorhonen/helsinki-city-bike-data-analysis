{
 "cells": [
  {
   "cell_type": "code",
   "execution_count": 219,
   "metadata": {},
   "outputs": [],
   "source": [
    "import numpy as np\n",
    "import pandas as pd\n",
    "from sklearn.ensemble import RandomForestRegressor\n",
    "from sklearn.model_selection import train_test_split, cross_val_score"
   ]
  },
  {
   "cell_type": "code",
   "execution_count": 220,
   "metadata": {},
   "outputs": [],
   "source": [
    "X = pd.read_csv(\"training_data/X_train.csv\")\n",
    "y = pd.read_csv(\"training_data/Y_train.csv\")"
   ]
  },
  {
   "cell_type": "code",
   "execution_count": 221,
   "metadata": {},
   "outputs": [],
   "source": [
    "X_train, X_test, y_train, y_test = train_test_split(X, y, test_size=0.2)"
   ]
  },
  {
   "cell_type": "code",
   "execution_count": 232,
   "metadata": {},
   "outputs": [],
   "source": [
    "model = RandomForestRegressor(n_estimators=100, max_depth=5)"
   ]
  },
  {
   "cell_type": "code",
   "execution_count": 233,
   "metadata": {},
   "outputs": [
    {
     "data": {
      "text/plain": [
       "RandomForestRegressor(max_depth=5)"
      ]
     },
     "execution_count": 233,
     "metadata": {},
     "output_type": "execute_result"
    }
   ],
   "source": [
    "model.fit(X_train, y_train[\"base_to_comp_sun_morning\"])"
   ]
  },
  {
   "cell_type": "code",
   "execution_count": 234,
   "metadata": {},
   "outputs": [
    {
     "data": {
      "text/plain": [
       "0.9345642387846217"
      ]
     },
     "execution_count": 234,
     "metadata": {},
     "output_type": "execute_result"
    }
   ],
   "source": [
    "# if too high, the model is overfitting\n",
    "model.score(X_train, y_train[\"base_to_comp_sun_morning\"])"
   ]
  },
  {
   "cell_type": "code",
   "execution_count": 235,
   "metadata": {
    "scrolled": true
   },
   "outputs": [
    {
     "data": {
      "text/plain": [
       "0.788607026570371"
      ]
     },
     "execution_count": 235,
     "metadata": {},
     "output_type": "execute_result"
    }
   ],
   "source": [
    "model.score(X_test, y_test[\"base_to_comp_sun_morning\"])"
   ]
  },
  {
   "cell_type": "code",
   "execution_count": 236,
   "metadata": {},
   "outputs": [
    {
     "data": {
      "text/plain": [
       "array([0.68800381, 0.61139065, 0.45026248, 0.67352933, 0.48852725])"
      ]
     },
     "execution_count": 236,
     "metadata": {},
     "output_type": "execute_result"
    }
   ],
   "source": [
    "scores = cross_val_score(model, X_train, y_train, cv=5)\n",
    "scores"
   ]
  },
  {
   "cell_type": "code",
   "execution_count": 227,
   "metadata": {},
   "outputs": [],
   "source": [
    "X_pred = pd.read_csv(\"training_data/X_pred.csv\")\n",
    "pred_pairs = np.loadtxt(\"training_data/train_pairs.txt\", dtype=str, delimiter=\",\")"
   ]
  },
  {
   "cell_type": "code",
   "execution_count": 228,
   "metadata": {
    "scrolled": true
   },
   "outputs": [
    {
     "data": {
      "text/plain": [
       "array([ 17.08293692,  17.81718161,  13.21059093,   5.84880958,\n",
       "         5.48256761,   6.08653935,   3.73877812,  54.91711714,\n",
       "        69.66318411,  15.01863404,   3.88294709,   4.78210508,\n",
       "         6.34873529,   4.84169797,  45.77213937,  39.74572133,\n",
       "         5.10601528,   3.17215463,   3.17215463,   6.9785972 ,\n",
       "         3.11480769,   3.17772267,   3.11480769,  24.82668397,\n",
       "        32.62219011,  32.68157175,   5.44325403,   5.98561994,\n",
       "         7.22760031,   3.71721817,   5.0336169 ,   4.32604923,\n",
       "        20.71818445,   4.19229942,   5.09145741,   5.30812298,\n",
       "         5.19811743,  23.42992793,  38.08967551,  20.29743901,\n",
       "         4.38339617,   3.48150696,   6.14671509,   3.42416002,\n",
       "         3.487075  ,   3.42416002,  25.82485064,  24.24911319,\n",
       "        32.68157175,   6.93867571,   6.24104163,   8.72302199,\n",
       "         5.21263986,   5.02663858,   3.82172652,  22.21360614,\n",
       "         5.68772111,   7.28656522,   6.85676689,  20.78175319,\n",
       "        32.53816887,  34.80831625,  35.04394179,  21.53292937,\n",
       "         3.47452865,   5.96987065,   3.41718171,   3.48009669,\n",
       "         3.55932652,  18.28865136,  18.40480027,  16.16091382,\n",
       "         6.71724987,   5.36088923,   5.46120594,   3.28618747,\n",
       "         4.1455738 ,   2.99312932,  13.27872575,   3.90341353,\n",
       "         5.94675927,   4.9303145 ,  22.58146493,  24.11201278,\n",
       "        37.7901259 ,  42.27232136,  61.27546714,   3.05047625,\n",
       "         6.52462588,   2.99312932,   3.0560443 ,   4.15833092,\n",
       "        41.01363389,  66.56321784,  58.01019859,  23.79936071,\n",
       "        40.74711874,  22.25894566,  38.67241697,  18.88138068,\n",
       "        18.52935882,  38.79301257,   4.88749821,  12.0566562 ,\n",
       "         5.10143256,  40.15331622,   4.04874803,   5.13806641,\n",
       "        41.86970389,  90.4597699 ,   3.27670576,  42.34578982,\n",
       "        37.47935882,  38.44416301,  37.05946378,  14.22007833,\n",
       "        17.00912606,  12.14644014,   5.44325403,   5.48256761,\n",
       "         5.04946009,   3.40786584,   3.46682956,   3.11480769,\n",
       "        11.26922991,   3.88294709,   4.78210508,   4.09688144,\n",
       "         4.05361758,   3.2569525 ,   4.06991912,   4.06991912,\n",
       "         4.07404384,   3.17215463,   5.64366276,   3.11480769,\n",
       "         3.17772267,   3.11480769,  18.20266497,  18.09893239,\n",
       "        13.94077159,   6.38204433,   5.55458923,   6.15821261,\n",
       "         3.28618747,   3.53885118,   2.99312932,  16.16186879,\n",
       "         3.76126871,   4.99592316,   3.97520306,   4.26743566,\n",
       "         2.99312932,   2.99312932,   3.35128011,   3.95236546,\n",
       "         3.05047625,   6.20506327,   2.99312932,   3.0560443 ,\n",
       "         3.94824075,  26.08982536,  18.98118558,  16.38858782,\n",
       "         5.67232565,   5.36088923,   5.69344839,   3.28618747,\n",
       "         3.34515118,   2.99312932,  14.84223903,   3.76126871,\n",
       "         5.42609337,   3.97520306,   3.9319392 ,   2.99312932,\n",
       "         2.99312932,   2.99312932,   4.00558769,   3.05047625,\n",
       "         6.28765105,   2.99312932,   4.01115573,  18.00364131,\n",
       "        46.22954649,  41.40924596,  97.10162223,   6.92982377,\n",
       "         5.67940758,  18.87647924,   3.60470581,   3.66366953,\n",
       "         3.31164766,  27.00818655,   4.07978706,   6.27803594,\n",
       "         4.29372141,   4.25045755,   3.31164766,   3.31164766,\n",
       "         3.31164766,  25.41687947,   3.3689946 ,  22.38059056,\n",
       "         3.31164766, 115.37880037,  59.45253787,  32.18304867,\n",
       "        42.06165808,  90.09615583,   6.01185274,   6.26804388,\n",
       "        17.7604691 ,   4.19334211,   4.25230583,   3.90028396,\n",
       "        23.54342167,   4.66842336,   5.56758135,   4.88235771,\n",
       "         4.83909385,   3.90028396,   3.90028396,   3.90028396,\n",
       "         3.9576309 ,   3.9576309 ,  20.01613125,   3.90028396,\n",
       "        61.34580339,   5.08956693,  71.26556369,  70.74387025,\n",
       "        64.13131581,   7.79484113,   8.05847095,  10.82589953,\n",
       "         4.15891701,   4.28116266,   3.7354408 ,  37.45866395,\n",
       "         4.5035802 ,  12.73604451,   6.89501455,   5.36216875,\n",
       "         3.7354408 ,   3.7354408 ,   3.7354408 ,   3.99578774,\n",
       "         3.79278774,   7.34891393,   3.7354408 ,   4.33635578,\n",
       "         3.9384408 ])"
      ]
     },
     "execution_count": 228,
     "metadata": {},
     "output_type": "execute_result"
    }
   ],
   "source": [
    "model.predict(X_pred)"
   ]
  },
  {
   "cell_type": "code",
   "execution_count": null,
   "metadata": {},
   "outputs": [],
   "source": [
    "# not complete, just an idea for it\n",
    "predictions = []\n",
    "\n",
    "for column in y.columns:\n",
    "    model = RandomForestRegressor(n_estimators=500, max_depth=None)\n",
    "    model.fit(X_train, y_train[column])\n",
    "    predictions.append(model.predict(X_pred))\n",
    "    \n",
    "results = pd.DataFrame(predictions, columns=y.columns)"
   ]
  }
 ],
 "metadata": {
  "kernelspec": {
   "display_name": "Python 3",
   "language": "python",
   "name": "python3"
  },
  "language_info": {
   "codemirror_mode": {
    "name": "ipython",
    "version": 3
   },
   "file_extension": ".py",
   "mimetype": "text/x-python",
   "name": "python",
   "nbconvert_exporter": "python",
   "pygments_lexer": "ipython3",
   "version": "3.8.5"
  }
 },
 "nbformat": 4,
 "nbformat_minor": 4
}
